{
 "cells": [
  {
   "cell_type": "code",
   "execution_count": null,
   "id": "05214a00",
   "metadata": {},
   "outputs": [
    {
     "name": "stdout",
     "output_type": "stream",
     "text": [
      "   Id  MSSubClass MSZoning  LotArea LotConfig BldgType  OverallCond  \\\n",
      "0   0          60       RL     8450    Inside     1Fam            5   \n",
      "1   1          20       RL     9600       FR2     1Fam            8   \n",
      "2   2          60       RL    11250    Inside     1Fam            5   \n",
      "3   3          70       RL     9550    Corner     1Fam            5   \n",
      "4   4          60       RL    14260       FR2     1Fam            5   \n",
      "\n",
      "   YearBuilt  YearRemodAdd Exterior1st  BsmtFinSF2  TotalBsmtSF  SalePrice  \n",
      "0       2003          2003     VinylSd         0.0        856.0   208500.0  \n",
      "1       1976          1976     MetalSd         0.0       1262.0   181500.0  \n",
      "2       2001          2002     VinylSd         0.0        920.0   223500.0  \n",
      "3       1915          1970     Wd Sdng         0.0        756.0   140000.0  \n",
      "4       2000          2000     VinylSd         0.0       1145.0   250000.0  \n",
      "Index(['Id', 'MSSubClass', 'MSZoning', 'LotArea', 'LotConfig', 'BldgType',\n",
      "       'OverallCond', 'YearBuilt', 'YearRemodAdd', 'Exterior1st', 'BsmtFinSF2',\n",
      "       'TotalBsmtSF', 'SalePrice'],\n",
      "      dtype='object')\n",
      "Missing values in each column:\n",
      "Id                 0\n",
      "MSSubClass         0\n",
      "MSZoning           4\n",
      "LotArea            0\n",
      "LotConfig          0\n",
      "BldgType           0\n",
      "OverallCond        0\n",
      "YearBuilt          0\n",
      "YearRemodAdd       0\n",
      "Exterior1st        1\n",
      "BsmtFinSF2         1\n",
      "TotalBsmtSF        1\n",
      "SalePrice       1459\n",
      "dtype: int64\n",
      "Checking for infinite values:\n",
      "Id              0\n",
      "MSSubClass      0\n",
      "LotArea         0\n",
      "OverallCond     0\n",
      "YearBuilt       0\n",
      "YearRemodAdd    0\n",
      "BsmtFinSF2      0\n",
      "TotalBsmtSF     0\n",
      "SalePrice       0\n",
      "dtype: int64\n",
      "Simple Linear Regression Mean Squared Error: 3330503292.374589\n",
      "Simple Linear Regression R^2 Score: 0.04498041001784292\n"
     ]
    },
    {
     "data": {
      "image/png": "[encoded data removed]",
      "text/plain": [
       "<Figure size 432x288 with 1 Axes>"
      ]
     },
     "metadata": {
      "needs_background": "light"
     },
     "output_type": "display_data"
    },
    {
     "name": "stdout",
     "output_type": "stream",
     "text": [
      "Multiple Linear Regression Mean Squared Error: 3332086780.8257875\n",
      "Multiple Linear Regression R^2 Score: 0.04452634576429082\n"
     ]
    }
   ],
   "source": [
    "import pandas as pd\n",
    "import numpy as np\n",
    "import matplotlib.pyplot as plt\n",
    "from sklearn.model_selection import train_test_split\n",
    "from sklearn.linear_model import LinearRegression\n",
    "from sklearn.metrics import mean_squared_error, r2_score\n",
    "\n",
    "dataset = pd.read_csv('MLDatasets/HousePricePrediction.csv')\n",
    "\n",
    "print(dataset.head())\n",
    "print(dataset.columns)  \n",
    "\n",
    "print(\"Missing values in each column:\")\n",
    "print(dataset.isnull().sum())\n",
    "\n",
    "numeric_cols = dataset.select_dtypes(include=[np.number]).columns\n",
    "dataset[numeric_cols] = dataset[numeric_cols].fillna(dataset[numeric_cols].mean())\n",
    "\n",
    "print(\"Checking for infinite values:\")\n",
    "infinite_values = np.isinf(dataset[numeric_cols]).sum()\n",
    "print(infinite_values)\n",
    "\n",
    "dataset.replace([np.inf, -np.inf], np.nan, inplace=True)\n",
    "dataset.dropna(inplace=True) \n",
    "\n",
    "X_simple = dataset[['LotArea']]  \n",
    "y = dataset['SalePrice']  \n",
    "\n",
    "X_train_simple, X_test_simple, y_train_simple, y_test_simple = train_test_split(X_simple, y, test_size=0.2, random_state=42)\n",
    "\n",
    "model_simple = LinearRegression()\n",
    "\n",
    "model_simple.fit(X_train_simple, y_train_simple)\n",
    "\n",
    "y_pred_simple = model_simple.predict(X_test_simple)\n",
    "\n",
    "mse_simple = mean_squared_error(y_test_simple, y_pred_simple)\n",
    "r2_simple = r2_score(y_test_simple, y_pred_simple)\n",
    "\n",
    "print(f'Simple Linear Regression Mean Squared Error: {mse_simple}')\n",
    "print(f'Simple Linear Regression R^2 Score: {r2_simple}')\n",
    "\n",
    "plt.scatter(X_test_simple, y_test_simple, color='blue', label='Actual Prices')\n",
    "plt.scatter(X_test_simple, y_pred_simple, color='red', label='Predicted Prices')\n",
    "plt.title('Simple Linear Regression: Actual vs Predicted Prices')\n",
    "plt.xlabel('Lot Area')  \n",
    "plt.ylabel('House Price')\n",
    "plt.legend()\n",
    "plt.show()\n",
    "\n",
    "X_multiple = dataset[['LotArea', 'MSSubClass', 'OverallCond']] \n",
    "y = dataset['SalePrice']\n",
    "\n",
    "X_train_multiple, X_test_multiple, y_train_multiple, y_test_multiple = train_test_split(X_multiple, y, test_size=0.2, random_state=42)\n",
    "\n",
    "model_multiple = LinearRegression()\n",
    "\n",
    "model_multiple.fit(X_train_multiple, y_train_multiple)\n",
    "\n",
    "y_pred_multiple = model_multiple.predict(X_test_multiple)\n",
    "\n",
    "mse_multiple = mean_squared_error(y_test_multiple, y_pred_multiple)\n",
    "r2_multiple = r2_score(y_test_multiple, y_pred_multiple)\n",
    "\n",
    "print(f'Multiple Linear Regression Mean Squared Error: {mse_multiple}')\n",
    "print(f'Multiple Linear Regression R^2 Score: {r2_multiple}')"
   ]
  },
  {
   "cell_type": "code",
   "execution_count": null,
   "id": "ab61a9ae",
   "metadata": {},
   "outputs": [],
   "source": []
  }
 ],
 "metadata": {
  "kernelspec": {
   "display_name": "Python 3 (ipykernel)",
   "language": "python",
   "name": "python3"
  },
  "language_info": {
   "codemirror_mode": {
    "name": "ipython",
    "version": 3
   },
   "file_extension": ".py",
   "mimetype": "text/x-python",
   "name": "python",
   "nbconvert_exporter": "python",
   "pygments_lexer": "ipython3",
   "version": "3.12.6"
  }
 },
 "nbformat": 4,
 "nbformat_minor": 5
}
