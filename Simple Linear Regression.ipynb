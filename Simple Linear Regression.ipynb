{
 "cells": [
  {
   "cell_type": "code",
   "execution_count": 11,
   "id": "6bc8dbd1",
   "metadata": {},
   "outputs": [],
   "source": [
    "import pandas as pd\n",
    "import numpy as np\n",
    "import matplotlib.pyplot as plt\n",
    "from sklearn.model_selection import train_test_split\n",
    "from sklearn.linear_model import LinearRegression\n",
    "from sklearn.metrics import mean_squared_error, r2_score"
   ]
  },
  {
   "cell_type": "code",
   "execution_count": 12,
   "id": "7b36be0a",
   "metadata": {},
   "outputs": [],
   "source": [
    "# 1. Load Data\n",
    "file_path = '/home/fymsc15/Aditya_WF/AIML/Assignment03/HousePricePrediction.csv'\n",
    "data = pd.read_csv(file_path)"
   ]
  },
  {
   "cell_type": "code",
   "execution_count": 13,
   "id": "01f1c7c3",
   "metadata": {},
   "outputs": [
    {
     "name": "stdout",
     "output_type": "stream",
     "text": [
      "   Id  MSSubClass MSZoning  LotArea LotConfig BldgType  OverallCond  \\\n",
      "0   0          60       RL     8450    Inside     1Fam            5   \n",
      "1   1          20       RL     9600       FR2     1Fam            8   \n",
      "2   2          60       RL    11250    Inside     1Fam            5   \n",
      "3   3          70       RL     9550    Corner     1Fam            5   \n",
      "4   4          60       RL    14260       FR2     1Fam            5   \n",
      "\n",
      "   YearBuilt  YearRemodAdd Exterior1st  BsmtFinSF2  TotalBsmtSF  SalePrice  \n",
      "0       2003          2003     VinylSd         0.0        856.0   208500.0  \n",
      "1       1976          1976     MetalSd         0.0       1262.0   181500.0  \n",
      "2       2001          2002     VinylSd         0.0        920.0   223500.0  \n",
      "3       1915          1970     Wd Sdng         0.0        756.0   140000.0  \n",
      "4       2000          2000     VinylSd         0.0       1145.0   250000.0  \n",
      "<class 'pandas.core.frame.DataFrame'>\n",
      "RangeIndex: 2919 entries, 0 to 2918\n",
      "Data columns (total 13 columns):\n",
      " #   Column        Non-Null Count  Dtype  \n",
      "---  ------        --------------  -----  \n",
      " 0   Id            2919 non-null   int64  \n",
      " 1   MSSubClass    2919 non-null   int64  \n",
      " 2   MSZoning      2915 non-null   object \n",
      " 3   LotArea       2919 non-null   int64  \n",
      " 4   LotConfig     2919 non-null   object \n",
      " 5   BldgType      2919 non-null   object \n",
      " 6   OverallCond   2919 non-null   int64  \n",
      " 7   YearBuilt     2919 non-null   int64  \n",
      " 8   YearRemodAdd  2919 non-null   int64  \n",
      " 9   Exterior1st   2918 non-null   object \n",
      " 10  BsmtFinSF2    2918 non-null   float64\n",
      " 11  TotalBsmtSF   2918 non-null   float64\n",
      " 12  SalePrice     1460 non-null   float64\n",
      "dtypes: float64(3), int64(6), object(4)\n",
      "memory usage: 296.6+ KB\n",
      "None\n",
      "Index(['Id', 'MSSubClass', 'MSZoning', 'LotArea', 'LotConfig', 'BldgType',\n",
      "       'OverallCond', 'YearBuilt', 'YearRemodAdd', 'Exterior1st', 'BsmtFinSF2',\n",
      "       'TotalBsmtSF', 'SalePrice'],\n",
      "      dtype='object')\n"
     ]
    }
   ],
   "source": [
    "# 2. Data Cleaning and Exploration\n",
    "print(data.head())\n",
    "print(data.info())\n",
    "print(data.columns)\n",
    "data.columns = data.columns.str.strip()\n",
    "data.fillna(data.mean(numeric_only=True), inplace=True)\n"
   ]
  },
  {
   "cell_type": "code",
   "execution_count": 14,
   "id": "3240e532",
   "metadata": {},
   "outputs": [
    {
     "name": "stdout",
     "output_type": "stream",
     "text": [
      "Simple Linear Regression Results:\n",
      "RMSE: 52880.54\n",
      "R-squared: 0.22\n"
     ]
    }
   ],
   "source": [
    "\n",
    "# 3. Simple Linear Regression\n",
    "X_simple = data[['TotalBsmtSF']]\n",
    "y = data['SalePrice']\n",
    "\n",
    "X_train_simple, X_test_simple, y_train_simple, y_test_simple = train_test_split(\n",
    "    X_simple, y, test_size=0.2, random_state=42\n",
    ")\n",
    "\n",
    "simple_model = LinearRegression()\n",
    "simple_model.fit(X_train_simple, y_train_simple)\n",
    "y_pred_simple = simple_model.predict(X_test_simple)\n",
    "\n",
    "simple_mse = mean_squared_error(y_test_simple, y_pred_simple)\n",
    "simple_rmse = np.sqrt(simple_mse)\n",
    "simple_r2 = r2_score(y_test_simple, y_pred_simple)\n",
    "\n",
    "print(\"Simple Linear Regression Results:\")\n",
    "print(f\"RMSE: {simple_rmse:.2f}\")\n",
    "print(f\"R-squared: {simple_r2:.2f}\")"
   ]
  },
  {
   "cell_type": "code",
   "execution_count": 15,
   "id": "c5931f57",
   "metadata": {},
   "outputs": [
    {
     "data": {
      "image/png": "[encoded data removed]",
      "text/plain": [
       "<Figure size 432x288 with 1 Axes>"
      ]
     },
     "metadata": {
      "needs_background": "light"
     },
     "output_type": "display_data"
    }
   ],
   "source": [
    "\n",
    "# 6. Visualize the Results\n",
    "plt.scatter(X_test_simple, y_test_simple, color='blue', label='Actual Data (Test Set)')\n",
    "\n",
    "X_test_simple_sorted, y_pred_simple_sorted = zip(*sorted(zip(X_test_simple.values.ravel(), y_pred_simple)))\n",
    "\n",
    "plt.plot(X_test_simple_sorted, y_pred_simple_sorted, color='red', label='Linear Regression')\n",
    "\n",
    "plt.title('TotalBsmtSF vs. SalePrice (Simple Linear Regression)')\n",
    "plt.xlabel('TotalBsmtSF')\n",
    "plt.ylabel('SalePrice')\n",
    "plt.legend()\n",
    "plt.show()\n",
    "\n",
    "# ... (Multiple Linear Regression code remains the same)"
   ]
  },
  {
   "cell_type": "code",
   "execution_count": null,
   "id": "43516ec9",
   "metadata": {},
   "outputs": [],
   "source": []
  }
 ],
 "metadata": {
  "kernelspec": {
   "display_name": "Python 3 (ipykernel)",
   "language": "python",
   "name": "python3"
  },
  "language_info": {
   "codemirror_mode": {
    "name": "ipython",
    "version": 3
   },
   "file_extension": ".py",
   "mimetype": "text/x-python",
   "name": "python",
   "nbconvert_exporter": "python",
   "pygments_lexer": "ipython3",
   "version": "3.9.12"
  }
 },
 "nbformat": 4,
 "nbformat_minor": 5
}
